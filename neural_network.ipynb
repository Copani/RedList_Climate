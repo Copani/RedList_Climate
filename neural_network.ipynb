{
 "cells": [
  {
   "cell_type": "code",
   "execution_count": 2,
   "metadata": {},
   "outputs": [],
   "source": [
    "import os\n",
    "import numpy as np\n",
    "import torch\n",
    "from torch import nn\n",
    "from matplotlib import pyplot as plt\n",
    "from sklearn.model_selection import train_test_split\n",
    "import pandas as pd"
   ]
  },
  {
   "cell_type": "code",
   "execution_count": 5,
   "metadata": {},
   "outputs": [],
   "source": [
    "pred2022 = pd.read_csv('pred2022.csv')\n",
    "# pred2022.keys()"
   ]
  },
  {
   "cell_type": "code",
   "execution_count": 4,
   "metadata": {},
   "outputs": [],
   "source": [
    "# Declare feature vector and target variable\n",
    "\n",
    "x = pred2022.drop(['Unnamed: 0', 'Order', 'Family', 'Species Name', 'Species Name_x',\n",
    "       '2004 GAA2 Red List Category', '2022 GAA2 Red List Category',\n",
    "       '2022 Red List Criteria', '2004-2022 Genuine Change?',\n",
    "       ' 2004-2022 Primary Driver', 'Grouped 2004-2022 Primary Driver',\n",
    "       '2004-2022 Genuine downlisting due to conservation', '2004 RL num', '2022 RL num', 'Species Name_y'], axis=1)\n",
    "\n",
    "\n",
    "\n",
    "# drop nan values\n",
    "x = x.dropna()\n",
    "\n",
    "# target variable\n",
    "y = x['higher risk']\n",
    "# feature vector\n",
    "X = x.drop(['higher risk'], axis=1)\n",
    "\n",
    "# split data into training and testing sets\n",
    "X_train, X_test, y_train, y_test = train_test_split(X, y, test_size = 0.3, random_state = 42)"
   ]
  },
  {
   "cell_type": "code",
   "execution_count": null,
   "metadata": {},
   "outputs": [],
   "source": []
  }
 ],
 "metadata": {
  "kernelspec": {
   "display_name": "ml_env",
   "language": "python",
   "name": "python3"
  },
  "language_info": {
   "codemirror_mode": {
    "name": "ipython",
    "version": 3
   },
   "file_extension": ".py",
   "mimetype": "text/x-python",
   "name": "python",
   "nbconvert_exporter": "python",
   "pygments_lexer": "ipython3",
   "version": "3.10.13"
  }
 },
 "nbformat": 4,
 "nbformat_minor": 2
}
